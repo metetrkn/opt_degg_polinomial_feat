{
 "cells": [
  {
   "cell_type": "code",
   "execution_count": 17,
   "id": "a3f315ab",
   "metadata": {},
   "outputs": [],
   "source": [
    "import pyforest"
   ]
  },
  {
   "cell_type": "code",
   "execution_count": 18,
   "id": "5e76911a",
   "metadata": {},
   "outputs": [
    {
     "data": {
      "application/javascript": [
       "\n",
       "        if (window._pyforest_update_imports_cell) { window._pyforest_update_imports_cell('import numpy as np\\nimport matplotlib.pyplot as plt\\nimport pandas as pd'); }\n",
       "    "
      ],
      "text/plain": [
       "<IPython.core.display.Javascript object>"
      ]
     },
     "metadata": {},
     "output_type": "display_data"
    },
    {
     "data": {
      "text/html": [
       "<div>\n",
       "<style scoped>\n",
       "    .dataframe tbody tr th:only-of-type {\n",
       "        vertical-align: middle;\n",
       "    }\n",
       "\n",
       "    .dataframe tbody tr th {\n",
       "        vertical-align: top;\n",
       "    }\n",
       "\n",
       "    .dataframe thead th {\n",
       "        text-align: right;\n",
       "    }\n",
       "</style>\n",
       "<table border=\"1\" class=\"dataframe\">\n",
       "  <thead>\n",
       "    <tr style=\"text-align: right;\">\n",
       "      <th></th>\n",
       "      <th>TV</th>\n",
       "      <th>radio</th>\n",
       "      <th>newspaper</th>\n",
       "      <th>sales</th>\n",
       "    </tr>\n",
       "  </thead>\n",
       "  <tbody>\n",
       "    <tr>\n",
       "      <th>0</th>\n",
       "      <td>230.1</td>\n",
       "      <td>37.8</td>\n",
       "      <td>69.2</td>\n",
       "      <td>22.1</td>\n",
       "    </tr>\n",
       "    <tr>\n",
       "      <th>1</th>\n",
       "      <td>44.5</td>\n",
       "      <td>39.3</td>\n",
       "      <td>45.1</td>\n",
       "      <td>10.4</td>\n",
       "    </tr>\n",
       "    <tr>\n",
       "      <th>2</th>\n",
       "      <td>17.2</td>\n",
       "      <td>45.9</td>\n",
       "      <td>69.3</td>\n",
       "      <td>9.3</td>\n",
       "    </tr>\n",
       "    <tr>\n",
       "      <th>3</th>\n",
       "      <td>151.5</td>\n",
       "      <td>41.3</td>\n",
       "      <td>58.5</td>\n",
       "      <td>18.5</td>\n",
       "    </tr>\n",
       "    <tr>\n",
       "      <th>4</th>\n",
       "      <td>180.8</td>\n",
       "      <td>10.8</td>\n",
       "      <td>58.4</td>\n",
       "      <td>12.9</td>\n",
       "    </tr>\n",
       "  </tbody>\n",
       "</table>\n",
       "</div>"
      ],
      "text/plain": [
       "      TV  radio  newspaper  sales\n",
       "0  230.1   37.8       69.2   22.1\n",
       "1   44.5   39.3       45.1   10.4\n",
       "2   17.2   45.9       69.3    9.3\n",
       "3  151.5   41.3       58.5   18.5\n",
       "4  180.8   10.8       58.4   12.9"
      ]
     },
     "execution_count": 18,
     "metadata": {},
     "output_type": "execute_result"
    }
   ],
   "source": [
    "df = pd.read_csv(\"/home/mete/udemy/08-Linear-Regression-Models/Advertising.csv\")\n",
    "df.head()"
   ]
  },
  {
   "cell_type": "code",
   "execution_count": 19,
   "id": "719aea08",
   "metadata": {},
   "outputs": [],
   "source": [
    "# splitting data into X(independent features) and y(dependent features)\n",
    "X = df.drop(\"sales\", axis=1)\n",
    "y = df[\"sales\"]"
   ]
  },
  {
   "cell_type": "markdown",
   "id": "92bb86e9",
   "metadata": {},
   "source": [
    "# checking linear regression"
   ]
  },
  {
   "cell_type": "code",
   "execution_count": 41,
   "id": "fe67c8f7",
   "metadata": {
    "scrolled": true
   },
   "outputs": [],
   "source": [
    "# splitting data into train-test data\n",
    "from sklearn.model_selection import train_test_split\n",
    "X_train, X_test, y_train, y_test = train_test_split(X, y, test_size=0.33, random_state=42)"
   ]
  },
  {
   "cell_type": "code",
   "execution_count": 21,
   "id": "542620a6",
   "metadata": {},
   "outputs": [
    {
     "data": {
      "text/plain": [
       "LinearRegression()"
      ]
     },
     "execution_count": 21,
     "metadata": {},
     "output_type": "execute_result"
    }
   ],
   "source": [
    "# creating instance and training\n",
    "from sklearn.linear_model import LinearRegression\n",
    "modelSample = LinearRegression()\n",
    "modelSample.fit(X_train, y_train)"
   ]
  },
  {
   "cell_type": "code",
   "execution_count": 22,
   "id": "617893a4",
   "metadata": {},
   "outputs": [
    {
     "data": {
      "application/javascript": [
       "\n",
       "        if (window._pyforest_update_imports_cell) { window._pyforest_update_imports_cell('import numpy as np\\nimport matplotlib.pyplot as plt\\nimport pandas as pd'); }\n",
       "    "
      ],
      "text/plain": [
       "<IPython.core.display.Javascript object>"
      ]
     },
     "metadata": {},
     "output_type": "display_data"
    },
    {
     "name": "stdout",
     "output_type": "stream",
     "text": [
      "linear MAE:  1.4937750024728969\n",
      "linear RSME:  1.93078438223472\n"
     ]
    }
   ],
   "source": [
    "# prediction\n",
    "pre = modelSample.predict(X_test)\n",
    "\n",
    "# performance\n",
    "from sklearn.metrics import mean_absolute_error, mean_squared_error\n",
    "l_MAE = mean_absolute_error(y_test, pre)\n",
    "l_RSME = np.sqrt(mean_squared_error(y_test, pre))\n",
    "print(\"linear MAE: \", l_MAE)\n",
    "print(\"linear RSME: \", l_RSME)"
   ]
  },
  {
   "cell_type": "markdown",
   "id": "91a6e564",
   "metadata": {},
   "source": [
    "# polinomial regression"
   ]
  },
  {
   "cell_type": "code",
   "execution_count": 24,
   "id": "8774ee3e",
   "metadata": {
    "scrolled": false
   },
   "outputs": [
    {
     "data": {
      "application/javascript": [
       "\n",
       "        if (window._pyforest_update_imports_cell) { window._pyforest_update_imports_cell('import numpy as np\\nimport matplotlib.pyplot as plt\\nimport pandas as pd'); }\n",
       "    "
      ],
      "text/plain": [
       "<IPython.core.display.Javascript object>"
      ]
     },
     "metadata": {},
     "output_type": "display_data"
    },
    {
     "data": {
      "application/javascript": [
       "\n",
       "        if (window._pyforest_update_imports_cell) { window._pyforest_update_imports_cell('import numpy as np\\nimport matplotlib.pyplot as plt\\nimport pandas as pd'); }\n",
       "    "
      ],
      "text/plain": [
       "<IPython.core.display.Javascript object>"
      ]
     },
     "metadata": {},
     "output_type": "display_data"
    },
    {
     "data": {
      "application/javascript": [
       "\n",
       "        if (window._pyforest_update_imports_cell) { window._pyforest_update_imports_cell('import numpy as np\\nimport matplotlib.pyplot as plt\\nimport pandas as pd'); }\n",
       "    "
      ],
      "text/plain": [
       "<IPython.core.display.Javascript object>"
      ]
     },
     "metadata": {},
     "output_type": "display_data"
    },
    {
     "data": {
      "application/javascript": [
       "\n",
       "        if (window._pyforest_update_imports_cell) { window._pyforest_update_imports_cell('import numpy as np\\nimport matplotlib.pyplot as plt\\nimport pandas as pd'); }\n",
       "    "
      ],
      "text/plain": [
       "<IPython.core.display.Javascript object>"
      ]
     },
     "metadata": {},
     "output_type": "display_data"
    },
    {
     "data": {
      "application/javascript": [
       "\n",
       "        if (window._pyforest_update_imports_cell) { window._pyforest_update_imports_cell('import numpy as np\\nimport matplotlib.pyplot as plt\\nimport pandas as pd'); }\n",
       "    "
      ],
      "text/plain": [
       "<IPython.core.display.Javascript object>"
      ]
     },
     "metadata": {},
     "output_type": "display_data"
    },
    {
     "data": {
      "application/javascript": [
       "\n",
       "        if (window._pyforest_update_imports_cell) { window._pyforest_update_imports_cell('import numpy as np\\nimport matplotlib.pyplot as plt\\nimport pandas as pd'); }\n",
       "    "
      ],
      "text/plain": [
       "<IPython.core.display.Javascript object>"
      ]
     },
     "metadata": {},
     "output_type": "display_data"
    },
    {
     "data": {
      "application/javascript": [
       "\n",
       "        if (window._pyforest_update_imports_cell) { window._pyforest_update_imports_cell('import numpy as np\\nimport matplotlib.pyplot as plt\\nimport pandas as pd'); }\n",
       "    "
      ],
      "text/plain": [
       "<IPython.core.display.Javascript object>"
      ]
     },
     "metadata": {},
     "output_type": "display_data"
    },
    {
     "data": {
      "application/javascript": [
       "\n",
       "        if (window._pyforest_update_imports_cell) { window._pyforest_update_imports_cell('import numpy as np\\nimport matplotlib.pyplot as plt\\nimport pandas as pd'); }\n",
       "    "
      ],
      "text/plain": [
       "<IPython.core.display.Javascript object>"
      ]
     },
     "metadata": {},
     "output_type": "display_data"
    },
    {
     "data": {
      "application/javascript": [
       "\n",
       "        if (window._pyforest_update_imports_cell) { window._pyforest_update_imports_cell('import numpy as np\\nimport matplotlib.pyplot as plt\\nimport pandas as pd'); }\n",
       "    "
      ],
      "text/plain": [
       "<IPython.core.display.Javascript object>"
      ]
     },
     "metadata": {},
     "output_type": "display_data"
    },
    {
     "data": {
      "application/javascript": [
       "\n",
       "        if (window._pyforest_update_imports_cell) { window._pyforest_update_imports_cell('import numpy as np\\nimport matplotlib.pyplot as plt\\nimport pandas as pd'); }\n",
       "    "
      ],
      "text/plain": [
       "<IPython.core.display.Javascript object>"
      ]
     },
     "metadata": {},
     "output_type": "display_data"
    }
   ],
   "source": [
    "all_errors_test = []\n",
    "all_errors_train = []\n",
    "# creating polinomial features\n",
    "# with for loop we try to find out different degree and effect on train test data error\n",
    "# we save different type of errors and degreets on all_errors list then we plot it to see degree-error relation\n",
    "from sklearn.preprocessing import PolynomialFeatures\n",
    "for i in range(1, 6):\n",
    "    # creating polinomial X(independent) features\n",
    "    pol_converter = PolynomialFeatures(degree=i, include_bias=False)\n",
    "    pol_converted_X = pol_converter.fit_transform(X)\n",
    "\n",
    "    #train_test data split\n",
    "    X_train, X_test, y_train, y_test = train_test_split(pol_converted_X, y, test_size=0.33, random_state=42)\n",
    "    \n",
    "    # training and prediction\n",
    "    from sklearn.linear_model import LinearRegression\n",
    "    modelPol = LinearRegression()\n",
    "    modelPol.fit(X_train, y_train)\n",
    "    pre_test = modelPol.predict(X_test)\n",
    "    pre_train = modelPol.predict(X_train)\n",
    "    \n",
    "    # performance\n",
    "    from sklearn.metrics import mean_squared_error\n",
    "    # for test data\n",
    "    p_RSME_test = np.sqrt(mean_squared_error(y_test, pre_test))\n",
    "    all_errors_test.append(p_RSME_test)\n",
    "    \n",
    "    # for train data\n",
    "    p_RSME_train = np.sqrt(mean_squared_error(y_train, pre_train))\n",
    "    all_errors_train.append(p_RSME_train)\n"
   ]
  },
  {
   "cell_type": "code",
   "execution_count": 25,
   "id": "b2c0c636",
   "metadata": {},
   "outputs": [
    {
     "data": {
      "application/javascript": [
       "\n",
       "        if (window._pyforest_update_imports_cell) { window._pyforest_update_imports_cell('import numpy as np\\nimport matplotlib.pyplot as plt\\nimport pandas as pd'); }\n",
       "    "
      ],
      "text/plain": [
       "<IPython.core.display.Javascript object>"
      ]
     },
     "metadata": {},
     "output_type": "display_data"
    },
    {
     "data": {
      "application/javascript": [
       "\n",
       "        if (window._pyforest_update_imports_cell) { window._pyforest_update_imports_cell('import numpy as np\\nimport matplotlib.pyplot as plt\\nimport pandas as pd'); }\n",
       "    "
      ],
      "text/plain": [
       "<IPython.core.display.Javascript object>"
      ]
     },
     "metadata": {},
     "output_type": "display_data"
    },
    {
     "data": {
      "application/javascript": [
       "\n",
       "        if (window._pyforest_update_imports_cell) { window._pyforest_update_imports_cell('import numpy as np\\nimport matplotlib.pyplot as plt\\nimport pandas as pd'); }\n",
       "    "
      ],
      "text/plain": [
       "<IPython.core.display.Javascript object>"
      ]
     },
     "metadata": {},
     "output_type": "display_data"
    },
    {
     "data": {
      "application/javascript": [
       "\n",
       "        if (window._pyforest_update_imports_cell) { window._pyforest_update_imports_cell('import numpy as np\\nimport matplotlib.pyplot as plt\\nimport pandas as pd'); }\n",
       "    "
      ],
      "text/plain": [
       "<IPython.core.display.Javascript object>"
      ]
     },
     "metadata": {},
     "output_type": "display_data"
    },
    {
     "data": {
      "application/javascript": [
       "\n",
       "        if (window._pyforest_update_imports_cell) { window._pyforest_update_imports_cell('import numpy as np\\nimport matplotlib.pyplot as plt\\nimport pandas as pd'); }\n",
       "    "
      ],
      "text/plain": [
       "<IPython.core.display.Javascript object>"
      ]
     },
     "metadata": {},
     "output_type": "display_data"
    },
    {
     "data": {
      "application/javascript": [
       "\n",
       "        if (window._pyforest_update_imports_cell) { window._pyforest_update_imports_cell('import numpy as np\\nimport matplotlib.pyplot as plt\\nimport pandas as pd'); }\n",
       "    "
      ],
      "text/plain": [
       "<IPython.core.display.Javascript object>"
      ]
     },
     "metadata": {},
     "output_type": "display_data"
    },
    {
     "data": {
      "application/javascript": [
       "\n",
       "        if (window._pyforest_update_imports_cell) { window._pyforest_update_imports_cell('import numpy as np\\nimport matplotlib.pyplot as plt\\nimport pandas as pd'); }\n",
       "    "
      ],
      "text/plain": [
       "<IPython.core.display.Javascript object>"
      ]
     },
     "metadata": {},
     "output_type": "display_data"
    },
    {
     "data": {
      "image/png": "[encoded data removed]",
      "text/plain": [
       "<Figure size 1008x504 with 1 Axes>"
      ]
     },
     "metadata": {
      "needs_background": "light"
     },
     "output_type": "display_data"
    }
   ],
   "source": [
    "plt.figure(figsize=(14,7))\n",
    "plt.plot(range(1,6), all_errors_test, \"--\")\n",
    "plt.plot(range(1,6), all_errors_train, \"--\", c=\"darkred\")\n",
    "plt.title(\"error vs degrees\")\n",
    "plt.xlabel(\"data complexity\")\n",
    "plt.ylabel(\"errors\")\n",
    "plt.legend(labels=[\"test_dataset\", \"train_dataset\"], loc=(1.02,0.81), title=\"datasets\", \n",
    "           fontsize=12, title_fontsize=15);\n",
    "# depends on this plot, we know we need to use degree as 3"
   ]
  },
  {
   "cell_type": "code",
   "execution_count": 34,
   "id": "35deeaad",
   "metadata": {},
   "outputs": [
    {
     "data": {
      "text/plain": [
       "['/home/mete/final_converter.joblib']"
      ]
     },
     "execution_count": 34,
     "metadata": {},
     "output_type": "execute_result"
    }
   ],
   "source": [
    "# now we know degree 3 is optimal for use\n",
    "# so we create final pol_converter and fully_converted_X depends this degree\n",
    "final_converter = PolynomialFeatures(degree=3, include_bias=False)\n",
    "final_converted_X = final_converter.fit_transform(X)\n",
    "\n",
    "# spliting data depends on final_converted_X\n",
    "X_train, X_test, y_train, y_test = train_test_split(final_converted_X, y, test_size=0.33, random_state=42)\n",
    "\n",
    "# creating linear regression model depends on polinomailed X with degree 3\n",
    "final_model = LinearRegression()\n",
    "\n",
    "# training data and prediction\n",
    "final_model.fit(X_train, y_train)\n",
    "pre = final_model.predict(X_test)\n",
    "\n",
    "## see result\n",
    "\n",
    "# loading full converter\n",
    "from joblib import dump, load\n",
    "dump(final_model, \"/home/mete/final_model.joblib\") # saves model as persint file in computer, can be send etc\n",
    "dump(final_converter, \"/home/mete/final_converter.joblib\")"
   ]
  },
  {
   "cell_type": "code",
   "execution_count": 35,
   "id": "a4edeb25",
   "metadata": {},
   "outputs": [],
   "source": [
    "# loading a persisten ml.joblib file to system\n",
    "loaded_model = load(\"/home/mete/final_model.joblib\")\n",
    "loaded_converter = load(\"/home/mete/final_converter.joblib\")"
   ]
  },
  {
   "cell_type": "code",
   "execution_count": 36,
   "id": "c756029f",
   "metadata": {},
   "outputs": [
    {
     "data": {
      "text/plain": [
       "array([14.57774927])"
      ]
     },
     "execution_count": 36,
     "metadata": {},
     "output_type": "execute_result"
    }
   ],
   "source": [
    "# real world data / feautrues\n",
    "campaign = [[149,22,12]]\n",
    "\n",
    "# converting real world featurees into polinomialed version\n",
    "con_X = loaded_converter.fit_transform(campaign)\n",
    "\n",
    "# using model on converted data\n",
    "loaded_model.predict(con_X)"
   ]
  },
  {
   "cell_type": "code",
   "execution_count": null,
   "id": "5d4c9972",
   "metadata": {},
   "outputs": [],
   "source": []
  }
 ],
 "metadata": {
  "kernelspec": {
   "display_name": "Python 3 (ipykernel)",
   "language": "python",
   "name": "python3"
  },
  "language_info": {
   "codemirror_mode": {
    "name": "ipython",
    "version": 3
   },
   "file_extension": ".py",
   "mimetype": "text/x-python",
   "name": "python",
   "nbconvert_exporter": "python",
   "pygments_lexer": "ipython3",
   "version": "3.9.12"
  }
 },
 "nbformat": 4,
 "nbformat_minor": 5
}
